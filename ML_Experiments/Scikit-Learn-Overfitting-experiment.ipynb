{
 "cells": [
  {
   "cell_type": "markdown",
   "id": "96d3400d",
   "metadata": {},
   "source": [
    "# Experiment on Overfitting Machine learning Models in Scikit-Learn"
   ]
  },
  {
   "cell_type": "markdown",
   "id": "ac4d28a0",
   "metadata": {},
   "source": [
    "### What is overfitting ?\n",
    "* ML model predicts well in train data set and perfrom poorly in holdout data set(test/validation).\n",
    "* common cause for overfitting is “poor generalization” of the model as measured by high “generalization error.”\n"
   ]
  },
  {
   "cell_type": "markdown",
   "id": "74cf4500",
   "metadata": {},
   "source": [
    "### Overfitting Analysis?\n",
    "* Plot the model performance on train vs test data set on each instances or data points which is called learning curve.\n",
    "* The common pattern or behavior for overfitting can be seen on learning curve plots, where model performance on the training dataset continues to improve (e.g. loss or error continues to fall or accuracy continues to rise) and performance on the test or validation set improves to a point and then begins to get worse.\n",
    "* If this pattern is observed, then training should stop at that point where performance gets worse on the test or validation set for algorithms that learn incrementally"
   ]
  },
  {
   "cell_type": "markdown",
   "id": "84647513",
   "metadata": {},
   "source": [
    "### Overfitting in Scikit-Learn\n",
    "* Use a synthetic classification dataset.\n",
    "\n",
    "* use the make_classification() function to define a binary (two class) classification prediction problem with 10,000 examples (rows) and 20 input features (columns).\n",
    "\n",
    "* "
   ]
  },
  {
   "cell_type": "code",
   "execution_count": 2,
   "id": "d47c29e4",
   "metadata": {},
   "outputs": [
    {
     "name": "stdout",
     "output_type": "stream",
     "text": [
      "(10000, 20) (10000,)\n"
     ]
    }
   ],
   "source": [
    "# synthetic classification dataset\n",
    "from sklearn.datasets import make_classification\n",
    "# define dataset\n",
    "\n",
    "X, y = make_classification(n_samples=10000, n_features=20, n_informative=5, n_redundant=15, random_state=1)\n",
    "# summarize the dataset\n",
    "print(X.shape, y.shape)"
   ]
  },
  {
   "cell_type": "markdown",
   "id": "6eb2f0bb",
   "metadata": {},
   "source": [
    "#### use the train_test_split() function and split the data into 70 percent for training a model and 30 percent for evaluating it."
   ]
  },
  {
   "cell_type": "code",
   "execution_count": 4,
   "id": "d8488789",
   "metadata": {},
   "outputs": [
    {
     "name": "stdout",
     "output_type": "stream",
     "text": [
      "(7000, 20) (3000, 20) (7000,) (3000,)\n"
     ]
    }
   ],
   "source": [
    "# split a dataset into train and test sets\n",
    "from sklearn.datasets import make_classification\n",
    "from sklearn.model_selection import train_test_split\n",
    "\n",
    "# create dataset\n",
    "X, y = make_classification(n_samples=10000, n_features=20, n_informative=5, n_redundant=15, random_state=1)\n",
    "\n",
    "# split into train test sets\n",
    "X_train, X_test, y_train, y_test = train_test_split(X, y, test_size=0.3)\n",
    "\n",
    "# summarize the shape of the train and test sets\n",
    "print(X_train.shape, X_test.shape, y_train.shape, y_test.shape)"
   ]
  },
  {
   "cell_type": "markdown",
   "id": "5f52fc30",
   "metadata": {},
   "source": [
    "#### use a decision tree via the DecisionTreeClassifier and test different tree depths with the “max_depth” argument.\n",
    "\n",
    "### Shallow decision trees (e.g. few levels) generally do not overfit but have poor performance (high bias, low variance). Whereas deep trees (e.g. many levels) generally do overfit and have good performance (low bias, high variance). A desirable tree is one that is not so shallow that it has low skill and not so deep that it overfits the training dataset."
   ]
  },
  {
   "cell_type": "code",
   "execution_count": 13,
   "id": "dddd031b",
   "metadata": {},
   "outputs": [
    {
     "name": "stdout",
     "output_type": "stream",
     "text": [
      ">1, train: 0.771, test: 0.752\n",
      ">2, train: 0.804, test: 0.808\n",
      ">3, train: 0.882, test: 0.872\n",
      ">4, train: 0.904, test: 0.892\n",
      ">5, train: 0.910, test: 0.900\n",
      ">6, train: 0.935, test: 0.916\n",
      ">7, train: 0.945, test: 0.924\n",
      ">8, train: 0.951, test: 0.925\n",
      ">9, train: 0.959, test: 0.929\n",
      ">10, train: 0.963, test: 0.927\n",
      ">11, train: 0.971, test: 0.924\n",
      ">12, train: 0.978, test: 0.922\n",
      ">13, train: 0.982, test: 0.920\n",
      ">14, train: 0.985, test: 0.918\n",
      ">15, train: 0.988, test: 0.916\n",
      ">16, train: 0.990, test: 0.913\n",
      ">17, train: 0.992, test: 0.915\n",
      ">18, train: 0.994, test: 0.910\n",
      ">19, train: 0.996, test: 0.913\n",
      ">20, train: 0.997, test: 0.915\n"
     ]
    }
   ],
   "source": [
    "from sklearn.tree import DecisionTreeClassifier\n",
    "from sklearn.metrics import accuracy_score\n",
    "\n",
    "# define the tree depths to evaluate\n",
    "values = [i for i in range(1, 21)]\n",
    "train_scores = []\n",
    "test_acc = []\n",
    "test_scores =[]\n",
    "\n",
    "# evaluate a decision tree for each depth\n",
    "for i in values:\n",
    "    # configure the model\n",
    "    model = DecisionTreeClassifier(max_depth=i)\n",
    "    # fit model on the training dataset\n",
    "    model.fit(X_train, y_train)\n",
    "    # evaluate on the train dataset\n",
    "    train_yhat = model.predict(X_train)\n",
    "    train_acc = accuracy_score(y_train, train_yhat)\n",
    "    train_scores.append(train_acc)\n",
    "    # evaluate on the test dataset\n",
    "    test_yhat = model.predict(X_test)\n",
    "    test_acc = accuracy_score(y_test, test_yhat)\n",
    "    test_scores.append(test_acc)\n",
    "    # summarize progress\n",
    "    print('>%d, train: %.3f, test: %.3f' % (i, train_acc, test_acc))"
   ]
  },
  {
   "cell_type": "code",
   "execution_count": 18,
   "id": "c448a7e3",
   "metadata": {},
   "outputs": [
    {
     "data": {
      "image/png": "[encoded data removed]",
      "text/plain": [
       "<Figure size 432x288 with 1 Axes>"
      ]
     },
     "metadata": {
      "needs_background": "light"
     },
     "output_type": "display_data"
    }
   ],
   "source": [
    "\n",
    "from matplotlib import pyplot \n",
    "\n",
    "# plot of train and test scores vs tree depth\n",
    "pyplot.plot(values, train_scores, '-o', label='Train loss')\n",
    "pyplot.plot(values, test_scores, '-o', label='Test loss')\n",
    "pyplot.legend()\n",
    "pyplot.show()"
   ]
  },
  {
   "cell_type": "markdown",
   "id": "a9555942",
   "metadata": {},
   "source": [
    "\n",
    "* <b>Running the example fits and evaluates a decision tree on the train and test sets for each tree depth and reports the accuracy scores.</b>\n",
    "    \n",
    "* <b> we can see a trend of increasing accuracy on the training dataset with the tree depth to a point around a depth of 19-20 levels where the tree fits the training dataset perfectly.\n",
    "</b>    \n",
    "* <b> We can also see that the accuracy on the test set improves with tree depth until a depth of about eight or nine levels, after which accuracy begins to get worse with each increase in tree depth </b>\n",
    "* <b> This is exactly what we would expect to see in a pattern of overfitting.\n",
    "\n",
    "</b>"
   ]
  },
  {
   "cell_type": "markdown",
   "id": "a87be3d0",
   "metadata": {},
   "source": [
    ">1, train: 0.771, test: 0.752 <br>\n",
    ">2, train: 0.804, test: 0.808 <br>\n",
    ">3, train: 0.882, test: 0.872 <br>\n",
    ">4, train: 0.904, test: 0.892 <br>\n",
    ">5, train: 0.910, test: 0.900 <br>\n",
    ">6, train: 0.935, test: 0.916 <br>\n",
    ">7, train: 0.945, test: 0.924 <br>\n",
    "<b> >8, train: 0.951, test: 0.925 </b>  <br>\n",
    ">9, train: 0.959, test: 0.929 <br>\n",
    ">10, train: 0.963, test: 0.927 <br>\n",
    ">11, train: 0.971, test: 0.924 <br> \n",
    ">12, train: 0.978, test: 0.922 <br>\n",
    ">13, train: 0.982, test: 0.920 <br>\n",
    ">14, train: 0.985, test: 0.918 <br>\n",
    ">15, train: 0.988, test: 0.916 <br>\n",
    ">16, train: 0.990, test: 0.913 <br>\n",
    ">17, train: 0.992, test: 0.915 <br>\n",
    ">18, train: 0.994, test: 0.910 <br>\n",
    ">19, train: 0.996, test: 0.913 <br>\n",
    ">20, train: 0.997, test: 0.915  <br>\n",
    "\n",
    "The plot clearly shows that increasing the tree depth in the early stages results in a corresponding improvement in both train and test sets.\n",
    "\n",
    "This continues until a depth of around 10 levels, after which the model is shown to overfit the training dataset at the cost of worse performance on the holdout dataset.\n"
   ]
  },
  {
   "cell_type": "markdown",
   "id": "e8e22dbe",
   "metadata": {},
   "source": [
    "## Counterexample of Overfitting in Scikit-Learn\n",
    "\n",
    "A good example of this is varying the number of neighbors for the k-nearest neighbors algorithms, which we can implement using the KNeighborsClassifier class and configure via the “n_neighbors” argument."
   ]
  },
  {
   "cell_type": "markdown",
   "id": "8c1a71b7",
   "metadata": {},
   "source": [
    "We can perform the same analysis of the KNN algorithm as we did in the previous section for the decision tree and see if our model overfits for different configuration values. In this case, we will vary the number of neighbors from 1 to 50 to get more of the effect."
   ]
  },
  {
   "cell_type": "code",
   "execution_count": 20,
   "id": "d86fee81",
   "metadata": {},
   "outputs": [
    {
     "name": "stdout",
     "output_type": "stream",
     "text": [
      ">1, train: 1.000, test: 0.918\n",
      ">2, train: 0.963, test: 0.911\n",
      ">3, train: 0.958, test: 0.930\n",
      ">4, train: 0.953, test: 0.929\n",
      ">5, train: 0.955, test: 0.931\n",
      ">6, train: 0.954, test: 0.931\n",
      ">7, train: 0.951, test: 0.931\n",
      ">8, train: 0.952, test: 0.931\n",
      ">9, train: 0.951, test: 0.929\n",
      ">10, train: 0.948, test: 0.928\n",
      ">11, train: 0.947, test: 0.927\n",
      ">12, train: 0.946, test: 0.928\n",
      ">13, train: 0.947, test: 0.929\n",
      ">14, train: 0.947, test: 0.931\n",
      ">15, train: 0.946, test: 0.930\n",
      ">16, train: 0.946, test: 0.930\n",
      ">17, train: 0.946, test: 0.928\n",
      ">18, train: 0.944, test: 0.929\n",
      ">19, train: 0.943, test: 0.927\n",
      ">20, train: 0.943, test: 0.927\n",
      ">21, train: 0.941, test: 0.925\n",
      ">22, train: 0.943, test: 0.926\n",
      ">23, train: 0.943, test: 0.924\n",
      ">24, train: 0.942, test: 0.926\n",
      ">25, train: 0.942, test: 0.922\n",
      ">26, train: 0.943, test: 0.923\n",
      ">27, train: 0.942, test: 0.920\n",
      ">28, train: 0.943, test: 0.922\n",
      ">29, train: 0.941, test: 0.921\n",
      ">30, train: 0.941, test: 0.921\n",
      ">31, train: 0.940, test: 0.921\n",
      ">32, train: 0.940, test: 0.922\n",
      ">33, train: 0.940, test: 0.923\n",
      ">34, train: 0.941, test: 0.923\n",
      ">35, train: 0.940, test: 0.923\n",
      ">36, train: 0.939, test: 0.924\n",
      ">37, train: 0.939, test: 0.922\n",
      ">38, train: 0.937, test: 0.922\n",
      ">39, train: 0.938, test: 0.921\n",
      ">40, train: 0.937, test: 0.921\n",
      ">41, train: 0.937, test: 0.921\n",
      ">42, train: 0.937, test: 0.921\n",
      ">43, train: 0.937, test: 0.922\n",
      ">44, train: 0.936, test: 0.922\n",
      ">45, train: 0.936, test: 0.922\n",
      ">46, train: 0.936, test: 0.921\n",
      ">47, train: 0.936, test: 0.920\n",
      ">48, train: 0.936, test: 0.921\n",
      ">49, train: 0.935, test: 0.920\n",
      ">50, train: 0.936, test: 0.921\n"
     ]
    },
    {
     "data": {
      "image/png": "[encoded data removed]",
      "text/plain": [
       "<Figure size 432x288 with 1 Axes>"
      ]
     },
     "metadata": {
      "needs_background": "light"
     },
     "output_type": "display_data"
    }
   ],
   "source": [
    "# evaluate knn performance on train and test sets with different numbers of neighbors\n",
    "from sklearn.datasets import make_classification\n",
    "from sklearn.model_selection import train_test_split\n",
    "from sklearn.metrics import accuracy_score\n",
    "from sklearn.neighbors import KNeighborsClassifier\n",
    "from matplotlib import pyplot\n",
    "# create dataset\n",
    "X, y = make_classification(n_samples=10000, n_features=20, n_informative=5, n_redundant=15, random_state=1)\n",
    "# split into train test sets\n",
    "X_train, X_test, y_train, y_test = train_test_split(X, y, test_size=0.3)\n",
    "# define lists to collect scores\n",
    "train_scores, test_scores = list(), list()\n",
    "# define the tree depths to evaluate\n",
    "values = [i for i in range(1, 51)]\n",
    "# evaluate a decision tree for each depth\n",
    "for i in values:\n",
    "\t# configure the model\n",
    "\tmodel = KNeighborsClassifier(n_neighbors=i)\n",
    "\t# fit model on the training dataset\n",
    "\tmodel.fit(X_train, y_train)\n",
    "\t# evaluate on the train dataset\n",
    "\ttrain_yhat = model.predict(X_train)\n",
    "\ttrain_acc = accuracy_score(y_train, train_yhat)\n",
    "\ttrain_scores.append(train_acc)\n",
    "\t# evaluate on the test dataset\n",
    "\ttest_yhat = model.predict(X_test)\n",
    "\ttest_acc = accuracy_score(y_test, test_yhat)\n",
    "\ttest_scores.append(test_acc)\n",
    "\t# summarize progress\n",
    "\tprint('>%d, train: %.3f, test: %.3f' % (i, train_acc, test_acc))\n",
    "# plot of train and test scores vs number of neighbors\n",
    "pyplot.plot(values, train_scores, '-o', label='Train')\n",
    "pyplot.plot(values, test_scores, '-o', label='Test')\n",
    "pyplot.legend()\n",
    "pyplot.show()"
   ]
  },
  {
   "cell_type": "markdown",
   "id": "9428cbe8",
   "metadata": {},
   "source": [
    "Running the example fits and evaluates a KNN model on the train and test sets for each number of neighbors and reports the accuracy scores."
   ]
  },
  {
   "cell_type": "markdown",
   "id": "4dea65fc",
   "metadata": {},
   "source": [
    "#### Note: patter we are looking ?\n",
    "we are looking for a pattern where performance on the test set improves and then starts to get worse, and performance on the training set continues to improve. we are not seeing this pattern\n",
    "\n",
    "we see that accuracy on the training dataset starts at perfect accuracy and falls with almost every increase in the number of neighbors.\n",
    "\n",
    "We also see that performance of the model on the holdout test improves to a value of about five neighbors, holds level and begins a downward trend after that."
   ]
  },
  {
   "cell_type": "markdown",
   "id": "6bcddbd4",
   "metadata": {},
   "source": [
    "### Points\n",
    "* A figure is also created that shows line plots of the model accuracy on the train and test sets with different numbers of neighbors.\n",
    "\n",
    "* The plots make the situation clearer. It looks as though the line plot for the training set is dropping to converge with the line for the test set. Indeed, this is exactly what is happening.\n",
    "* The “model” is really just the entire training dataset stored in an efficient data structure. Skill for the “model” on the training dataset should be 100 percent and anything less is unforgivable."
   ]
  },
  {
   "cell_type": "markdown",
   "id": "cdfce2cb",
   "metadata": {},
   "source": [
    "Reference: https://machinelearningmastery.com/overfitting-machine-learning-models/"
   ]
  },
  {
   "cell_type": "code",
   "execution_count": null,
   "id": "d9df546d",
   "metadata": {},
   "outputs": [],
   "source": []
  }
 ],
 "metadata": {
  "kernelspec": {
   "display_name": "Python 3 (ipykernel)",
   "language": "python",
   "name": "python3"
  },
  "language_info": {
   "codemirror_mode": {
    "name": "ipython",
    "version": 3
   },
   "file_extension": ".py",
   "mimetype": "text/x-python",
   "name": "python",
   "nbconvert_exporter": "python",
   "pygments_lexer": "ipython3",
   "version": "3.9.7"
  }
 },
 "nbformat": 4,
 "nbformat_minor": 5
}
